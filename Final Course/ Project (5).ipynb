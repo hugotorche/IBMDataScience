{
 "cells": [
  {
   "cell_type": "markdown",
   "metadata": {},
   "source": [
    "# Capstone Project IBM: Copenhagen Neighborhood Analysis"
   ]
  },
  {
   "cell_type": "markdown",
   "metadata": {},
   "source": [
    "## Introduction"
   ]
  },
  {
   "cell_type": "markdown",
   "metadata": {},
   "source": [
    "Copenhagen is the capital and most populous city of Denmark. The city is also reputed to be the happiest city in the world. I will do an exchange academic semester in Copenhagen during the next semester and would like to gain a better understanding of the city facilities. I found that choosing a neighborhood to live in can be a complicated task to do, but with the help of location data from Foursquare, it could be a little bit easier."
   ]
  },
  {
   "cell_type": "markdown",
   "metadata": {},
   "source": [
    "## Problem"
   ]
  },
  {
   "cell_type": "markdown",
   "metadata": {},
   "source": [
    "The objective of this capstone project is to analyze and select the best locations in the city of Copenhagen using data science methodology and machine learning techniques like clustering. This project aims to provide solutions to answer the question: In the city of Copenhagen, what would be a better place to live in during my exchange period?"
   ]
  },
  {
   "cell_type": "markdown",
   "metadata": {},
   "source": [
    "## Target Audience"
   ]
  },
  {
   "cell_type": "markdown",
   "metadata": {},
   "source": [
    "- People interested in moving to Copenhagen and looking for a perfect neighborhood for their needs\n",
    "- People interested in Copenhagen facilities for other purpose: open a restaurant, start their business, etc. \n",
    "- A beginner data scientist who may use this research as an example"
   ]
  },
  {
   "cell_type": "markdown",
   "metadata": {},
   "source": [
    "## Data"
   ]
  },
  {
   "cell_type": "markdown",
   "metadata": {},
   "source": [
    "For this project, the following data is needed:\n",
    "- List of neighborhoods in Copenhagen\n",
    "- Latitude and longitude coordinates of neighborhoods to get the venue data\n",
    "- Venues Details"
   ]
  },
  {
   "cell_type": "markdown",
   "metadata": {},
   "source": [
    "<u> 1) Location Data </u>\n",
    "\n",
    "First, we need to get a full list of all Copenhagen neighborhoods. <b> Wikipedia </b> article List of districts in Copenhagen is a great place to start: https://en.wikipedia.org/wiki/Districts_of_Copenhagen\n",
    "\n",
    "<b> BeautifulSoup </b> is a Python library used for pulling data out of HTML. We will use it to parse the Wikipedia page\n",
    "For geolocation data, we will use the <b> Geocoding API </b>. To get more information about it, follow the Geocoding Developer Guide.\n",
    "\n",
    "<u> 2) Venues Data (Foursquare API) </u>\n",
    "\n",
    "<b> Foursquare API </b> provides information about venues and geolocation. We will use Foursquare API to get the venue data for Copenhagen neighborhoods. Foursquare has one of the largest databases of 105+ million places and is used by over 125,000 developers. Foursquare API will provide many categories of the venue data such as name, location, hours, rating, or prices."
   ]
  },
  {
   "cell_type": "markdown",
   "metadata": {},
   "source": [
    "### Import Required Libraries"
   ]
  },
  {
   "cell_type": "code",
   "execution_count": 2,
   "metadata": {},
   "outputs": [
    {
     "name": "stdout",
     "output_type": "stream",
     "text": [
      "Libraries imported.\n"
     ]
    }
   ],
   "source": [
    "import pandas as pd # Library for data analysis\n",
    "pd.set_option('display.max_columns', None)\n",
    "pd.set_option('display.max_rows', None)\n",
    "import numpy as np # Library to handle data in a vectorized manner\n",
    "\n",
    "import requests # Library to handle requests\n",
    "from bs4 import BeautifulSoup\n",
    "\n",
    "import json # library to handle JSON files\n",
    "from pandas.io.json import json_normalize # Tranform JSON file into a pandas dataframe\n",
    "\n",
    "from geopy.geocoders import Nominatim\n",
    "\n",
    "# Matplotlib and associated plotting modules\n",
    "import matplotlib.pyplot as plt\n",
    "import matplotlib.cm as cm\n",
    "import matplotlib.colors as colors\n",
    "\n",
    "import folium # Map rendering library\n",
    "\n",
    "# Import k-means from clustering stage\n",
    "from sklearn.cluster import KMeans\n",
    "\n",
    "print('Libraries imported.')"
   ]
  },
  {
   "cell_type": "markdown",
   "metadata": {},
   "source": [
    "### Neighborhoods Data"
   ]
  },
  {
   "cell_type": "code",
   "execution_count": 4,
   "metadata": {},
   "outputs": [],
   "source": [
    "result = requests.get(\"https://en.wikipedia.org/wiki/Districts_of_Copenhagen\")\n",
    "data = result.content\n",
    "soup = BeautifulSoup(data,'html5lib')"
   ]
  }
 ],
 "metadata": {
  "kernelspec": {
   "display_name": "Python 3",
   "language": "python",
   "name": "python3"
  },
  "language_info": {
   "codemirror_mode": {
    "name": "ipython",
    "version": 3
   },
   "file_extension": ".py",
   "mimetype": "text/x-python",
   "name": "python",
   "nbconvert_exporter": "python",
   "pygments_lexer": "ipython3",
   "version": "3.8.5"
  }
 },
 "nbformat": 4,
 "nbformat_minor": 4
}

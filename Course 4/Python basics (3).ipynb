{
 "cells": [
  {
   "cell_type": "markdown",
   "metadata": {},
   "source": [
    "<h2 id=\"write\">Reading Files</h2>\n",
    "\n"
   ]
  },
  {
   "cell_type": "code",
   "execution_count": 1,
   "metadata": {},
   "outputs": [
    {
     "data": {
      "text/plain": [
       "('Example1.txt', <http.client.HTTPMessage at 0x7fc0a82a5430>)"
      ]
     },
     "execution_count": 1,
     "metadata": {},
     "output_type": "execute_result"
    }
   ],
   "source": [
    "import urllib.request\n",
    "url = 'https://cf-courses-data.s3.us.cloud-object-storage.appdomain.cloud/IBMDeveloperSkillsNetwork-PY0101EN-SkillsNetwork/labs/Module%204/data/example1.txt'\n",
    "filename = 'Example1.txt'\n",
    "urllib.request.urlretrieve(url, filename)"
   ]
  },
  {
   "cell_type": "code",
   "execution_count": 2,
   "metadata": {},
   "outputs": [],
   "source": [
    "example1 = \"Example1.txt\"\n",
    "file1 = open(example1, \"r\")"
   ]
  },
  {
   "cell_type": "code",
   "execution_count": 3,
   "metadata": {},
   "outputs": [
    {
     "data": {
      "text/plain": [
       "'Example1.txt'"
      ]
     },
     "execution_count": 3,
     "metadata": {},
     "output_type": "execute_result"
    }
   ],
   "source": [
    "file1.name"
   ]
  },
  {
   "cell_type": "code",
   "execution_count": 4,
   "metadata": {},
   "outputs": [
    {
     "data": {
      "text/plain": [
       "'r'"
      ]
     },
     "execution_count": 4,
     "metadata": {},
     "output_type": "execute_result"
    }
   ],
   "source": [
    "file1.mode"
   ]
  },
  {
   "cell_type": "code",
   "execution_count": 5,
   "metadata": {},
   "outputs": [
    {
     "data": {
      "text/plain": [
       "'This is line 1 \\nThis is line 2\\nThis is line 3'"
      ]
     },
     "execution_count": 5,
     "metadata": {},
     "output_type": "execute_result"
    }
   ],
   "source": [
    "FileContent = file1.read()\n",
    "FileContent"
   ]
  },
  {
   "cell_type": "code",
   "execution_count": 6,
   "metadata": {},
   "outputs": [
    {
     "name": "stdout",
     "output_type": "stream",
     "text": [
      "This is line 1 \n",
      "This is line 2\n",
      "This is line 3\n"
     ]
    }
   ],
   "source": [
    "with open(example1, \"r\") as file1:\n",
    "    FileContent = file1.read()\n",
    "    print(FileContent)"
   ]
  },
  {
   "cell_type": "code",
   "execution_count": 7,
   "metadata": {},
   "outputs": [
    {
     "data": {
      "text/plain": [
       "True"
      ]
     },
     "execution_count": 7,
     "metadata": {},
     "output_type": "execute_result"
    }
   ],
   "source": [
    "file1.closed"
   ]
  },
  {
   "cell_type": "code",
   "execution_count": 8,
   "metadata": {},
   "outputs": [
    {
     "name": "stdout",
     "output_type": "stream",
     "text": [
      "This is line 1 \n",
      "This is line 2\n",
      "This is line 3\n"
     ]
    }
   ],
   "source": [
    "print(FileContent)"
   ]
  },
  {
   "cell_type": "code",
   "execution_count": 9,
   "metadata": {},
   "outputs": [
    {
     "name": "stdout",
     "output_type": "stream",
     "text": [
      "This\n",
      " is l\n",
      "i\n",
      "ne 1 \n",
      "T\n"
     ]
    }
   ],
   "source": [
    "with open(example1, \"r\") as file1:\n",
    "    print(file1.read(4))\n",
    "    print(file1.read(5))\n",
    "    print(file1.read(1))\n",
    "    print(file1.read(7))"
   ]
  },
  {
   "cell_type": "code",
   "execution_count": 10,
   "metadata": {},
   "outputs": [
    {
     "name": "stdout",
     "output_type": "stream",
     "text": [
      "first line: This is line 1 \n",
      "\n"
     ]
    }
   ],
   "source": [
    "with open(example1, \"r\") as file1:\n",
    "    print(\"first line: \" + file1.readline())"
   ]
  },
  {
   "cell_type": "code",
   "execution_count": 11,
   "metadata": {},
   "outputs": [
    {
     "name": "stdout",
     "output_type": "stream",
     "text": [
      "This \n"
     ]
    }
   ],
   "source": [
    "with open(example1, \"r\") as file1:\n",
    "    print(file1.readline(5))"
   ]
  },
  {
   "cell_type": "code",
   "execution_count": 12,
   "metadata": {},
   "outputs": [
    {
     "name": "stdout",
     "output_type": "stream",
     "text": [
      "['This is line 1 \\n', 'This is line 2\\n', 'This is line 3']\n"
     ]
    }
   ],
   "source": [
    "with open(example1, \"r\") as file1:\n",
    "    print(file1.readlines())"
   ]
  },
  {
   "cell_type": "code",
   "execution_count": 13,
   "metadata": {},
   "outputs": [
    {
     "name": "stdout",
     "output_type": "stream",
     "text": [
      "Iteration 0 :  This is line 1 \n",
      "\n",
      "Iteration 1 :  This is line 2\n",
      "\n",
      "Iteration 2 :  This is line 3\n"
     ]
    }
   ],
   "source": [
    "with open(example1,\"r\") as file1:\n",
    "        i = 0;\n",
    "        for line in file1:\n",
    "            print(\"Iteration\", str(i), \": \", line)\n",
    "            i = i + 1"
   ]
  },
  {
   "cell_type": "code",
   "execution_count": 14,
   "metadata": {},
   "outputs": [
    {
     "name": "stdout",
     "output_type": "stream",
     "text": [
      "Iteration 0 :  This is line 1 \n",
      "\n",
      "Iteration 1 :  This is line 2\n",
      "\n",
      "Iteration 2 :  This is line 3\n"
     ]
    }
   ],
   "source": [
    "with open(example1,\"r\") as file1:\n",
    "        i = 0;\n",
    "        for line in file1:\n",
    "            print(\"Iteration\", str(i), \": \", line)\n",
    "            i = i + 1"
   ]
  },
  {
   "cell_type": "markdown",
   "metadata": {},
   "source": [
    "<h2 id=\"write\">Writing Files</h2>\n"
   ]
  },
  {
   "cell_type": "code",
   "execution_count": 4,
   "metadata": {},
   "outputs": [],
   "source": [
    "# Write line to file\n",
    "exmp2 = 'Example2.txt'\n",
    "with open(exmp2, 'w') as writefile:\n",
    "    writefile.write(\"This is line A\")"
   ]
  },
  {
   "cell_type": "code",
   "execution_count": 5,
   "metadata": {},
   "outputs": [
    {
     "name": "stdout",
     "output_type": "stream",
     "text": [
      "This is line A\n"
     ]
    }
   ],
   "source": [
    "# Read file\n",
    "\n",
    "with open(exmp2, 'r') as testwritefile:\n",
    "    print(testwritefile.read())"
   ]
  },
  {
   "cell_type": "code",
   "execution_count": 6,
   "metadata": {},
   "outputs": [],
   "source": [
    "# Write lines to file\n",
    "\n",
    "with open(exmp2, 'w') as writefile:\n",
    "    writefile.write(\"This is line A\\n\")\n",
    "    writefile.write(\"This is line B\\n\")"
   ]
  },
  {
   "cell_type": "code",
   "execution_count": 7,
   "metadata": {},
   "outputs": [
    {
     "name": "stdout",
     "output_type": "stream",
     "text": [
      "This is line A\n",
      "This is line B\n",
      "\n"
     ]
    }
   ],
   "source": [
    "# Check whether write to file\n",
    "\n",
    "with open(exmp2, 'r') as testwritefile:\n",
    "    print(testwritefile.read())"
   ]
  },
  {
   "cell_type": "code",
   "execution_count": 8,
   "metadata": {},
   "outputs": [
    {
     "data": {
      "text/plain": [
       "['This is line A\\n', 'This is line B\\n', 'This is line C\\n']"
      ]
     },
     "execution_count": 8,
     "metadata": {},
     "output_type": "execute_result"
    }
   ],
   "source": [
    "# Sample list of text\n",
    "\n",
    "Lines = [\"This is line A\\n\", \"This is line B\\n\", \"This is line C\\n\"]\n",
    "Lines"
   ]
  },
  {
   "cell_type": "code",
   "execution_count": 9,
   "metadata": {},
   "outputs": [
    {
     "name": "stdout",
     "output_type": "stream",
     "text": [
      "This is line A\n",
      "\n",
      "This is line B\n",
      "\n",
      "This is line C\n",
      "\n"
     ]
    }
   ],
   "source": [
    "# Write the strings in the list to text file\n",
    "\n",
    "with open('Example2.txt', 'w') as writefile:\n",
    "    for line in Lines:\n",
    "        print(line)\n",
    "        writefile.write(line)"
   ]
  },
  {
   "cell_type": "code",
   "execution_count": 10,
   "metadata": {},
   "outputs": [
    {
     "name": "stdout",
     "output_type": "stream",
     "text": [
      "This is line A\n",
      "This is line B\n",
      "This is line C\n",
      "\n"
     ]
    }
   ],
   "source": [
    "# Verify if writing to file is successfully executed\n",
    "\n",
    "with open('Example2.txt', 'r') as testwritefile:\n",
    "    print(testwritefile.read())"
   ]
  },
  {
   "cell_type": "markdown",
   "metadata": {},
   "source": [
    "However, note that setting the mode to **w** overwrites all the existing data in the file.\n"
   ]
  },
  {
   "cell_type": "code",
   "execution_count": 11,
   "metadata": {},
   "outputs": [
    {
     "name": "stdout",
     "output_type": "stream",
     "text": [
      "Overwrite\n",
      "\n"
     ]
    }
   ],
   "source": [
    "with open('Example2.txt', 'w') as writefile:\n",
    "    writefile.write(\"Overwrite\\n\")\n",
    "with open('Example2.txt', 'r') as testwritefile:\n",
    "    print(testwritefile.read())"
   ]
  },
  {
   "cell_type": "markdown",
   "metadata": {},
   "source": [
    "<h2 id=\"Append\">Appending Files</h2>\n"
   ]
  },
  {
   "cell_type": "markdown",
   "metadata": {},
   "source": [
    " We can write to files without losing any of the existing data as follows by setting the mode argument to append **a**.  you can append a new line as follows:\n"
   ]
  },
  {
   "cell_type": "code",
   "execution_count": 12,
   "metadata": {},
   "outputs": [],
   "source": [
    "# Write a new line to text file\n",
    "\n",
    "with open('Example2.txt', 'a') as testwritefile:\n",
    "    testwritefile.write(\"This is line C\\n\")\n",
    "    testwritefile.write(\"This is line D\\n\")\n",
    "    testwritefile.write(\"This is line E\\n\")"
   ]
  },
  {
   "cell_type": "code",
   "execution_count": 13,
   "metadata": {},
   "outputs": [
    {
     "name": "stdout",
     "output_type": "stream",
     "text": [
      "Overwrite\n",
      "This is line C\n",
      "This is line D\n",
      "This is line E\n",
      "\n"
     ]
    }
   ],
   "source": [
    "# Verify if the new line is in the text file\n",
    "\n",
    "with open('Example2.txt', 'r') as testwritefile:\n",
    "    print(testwritefile.read())"
   ]
  },
  {
   "cell_type": "markdown",
   "metadata": {},
   "source": [
    "<h2 id=\"add\">Additional modes</h2> \n"
   ]
  },
  {
   "cell_type": "markdown",
   "metadata": {},
   "source": [
    "-   **r+** : Reading and writing. \n",
    "-   **w+** : Writing and reading.\n",
    "-   **a+** : Appending and Reading. \n"
   ]
  },
  {
   "cell_type": "markdown",
   "metadata": {},
   "source": [
    "Let's try out the **a+** mode:\n"
   ]
  },
  {
   "cell_type": "code",
   "execution_count": 14,
   "metadata": {},
   "outputs": [
    {
     "name": "stdout",
     "output_type": "stream",
     "text": [
      "\n"
     ]
    }
   ],
   "source": [
    "with open('Example2.txt', 'a+') as testwritefile:\n",
    "    testwritefile.write(\"This is line E\\n\")\n",
    "    print(testwritefile.read())"
   ]
  },
  {
   "cell_type": "markdown",
   "metadata": {},
   "source": [
    "Now lets revisit **a+**\n"
   ]
  },
  {
   "cell_type": "code",
   "execution_count": 15,
   "metadata": {},
   "outputs": [
    {
     "name": "stdout",
     "output_type": "stream",
     "text": [
      "Initial Location: 70\n",
      "Read nothing\n",
      "\n",
      "New Location : 0\n",
      "Overwrite\n",
      "This is line C\n",
      "This is line D\n",
      "This is line E\n",
      "This is line E\n",
      "\n",
      "Location after read: 70\n"
     ]
    }
   ],
   "source": [
    "with open('Example2.txt', 'a+') as testwritefile:\n",
    "    print(\"Initial Location: {}\".format(testwritefile.tell()))\n",
    "    \n",
    "    data = testwritefile.read()\n",
    "    if (not data):  #empty strings return false in python\n",
    "            print('Read nothing') \n",
    "    else: \n",
    "            print(testwritefile.read())\n",
    "            \n",
    "    testwritefile.seek(0,0) # move 0 bytes from beginning.\n",
    "    \n",
    "    print(\"\\nNew Location : {}\".format(testwritefile.tell()))\n",
    "    data = testwritefile.read()\n",
    "    if (not data): \n",
    "            print('Read nothing') \n",
    "    else: \n",
    "            print(data)\n",
    "    \n",
    "    print(\"Location after read: {}\".format(testwritefile.tell()) )"
   ]
  },
  {
   "cell_type": "code",
   "execution_count": 18,
   "metadata": {},
   "outputs": [
    {
     "name": "stdout",
     "output_type": "stream",
     "text": [
      "Line 1\n",
      "Line 2\n",
      "Line 3\n",
      "finished\n",
      "\n"
     ]
    }
   ],
   "source": [
    "with open('Example2.txt', 'r+') as testwritefile:\n",
    "    data = testwritefile.readlines()\n",
    "    testwritefile.seek(0,0) #write at beginning of file\n",
    "   \n",
    "    testwritefile.write(\"Line 1\" + \"\\n\")\n",
    "    testwritefile.write(\"Line 2\" + \"\\n\")\n",
    "    testwritefile.write(\"Line 3\" + \"\\n\")\n",
    "    testwritefile.write(\"finished\\n\")\n",
    "    testwritefile.truncate()\n",
    "    testwritefile.seek(0,0)\n",
    "    print(testwritefile.read())\n",
    "    "
   ]
  },
  {
   "cell_type": "markdown",
   "metadata": {},
   "source": [
    "<h2 id=\"copy\">Copy a File</h2> \n"
   ]
  },
  {
   "cell_type": "code",
   "execution_count": 19,
   "metadata": {},
   "outputs": [],
   "source": [
    "# Copy file to another\n",
    "\n",
    "with open('Example2.txt','r') as readfile:\n",
    "    with open('Example3.txt','w') as writefile:\n",
    "          for line in readfile:\n",
    "                writefile.write(line)"
   ]
  },
  {
   "cell_type": "code",
   "execution_count": 20,
   "metadata": {},
   "outputs": [
    {
     "name": "stdout",
     "output_type": "stream",
     "text": [
      "Line 1\n",
      "Line 2\n",
      "Line 3\n",
      "finished\n",
      "\n"
     ]
    }
   ],
   "source": [
    "# Verify if the copy is successfully executed\n",
    "\n",
    "with open('Example3.txt','r') as testwritefile:\n",
    "    print(testwritefile.read())"
   ]
  },
  {
   "cell_type": "markdown",
   "metadata": {},
   "source": [
    "<h2> Practice </h2>\n"
   ]
  },
  {
   "cell_type": "markdown",
   "metadata": {},
   "source": [
    "Your local university's Raptors fan club maintains a register of its active members on a .txt document. Every month they update the file by removing the members who are not active. You have been tasked with automating this with your python skills. <br>\n",
    "Given the file currentMem, Remove each member with a 'no' in their inactive coloumn. Keep track of each of the removed members and append them to the exMem file. Make sure the format of the original files in preserved.   (_Hint: Do this by reading/writing whole lines and ensuring the header remains_ )\n",
    "<br>\n",
    "Run the code block below prior to starting the exercise. The skeleton code has been provided for you, Edit only the cleanFiles function.\n"
   ]
  },
  {
   "cell_type": "code",
   "execution_count": 21,
   "metadata": {},
   "outputs": [],
   "source": [
    "#Run this prior to starting the exercise\n",
    "from random import randint as rnd\n",
    "\n",
    "memReg = 'members.txt'\n",
    "exReg = 'inactive.txt'\n",
    "fee =('yes','no')\n",
    "\n",
    "def genFiles(current,old):\n",
    "    with open(current,'w+') as writefile: \n",
    "        writefile.write('Membership No  Date Joined  Active  \\n')\n",
    "        data = \"{:^13}  {:<11}  {:<6}\\n\"\n",
    "\n",
    "        for rowno in range(20):\n",
    "            date = str(rnd(2015,2020))+ '-' + str(rnd(1,12))+'-'+str(rnd(1,25))\n",
    "            writefile.write(data.format(rnd(10000,99999),date,fee[rnd(0,1)]))\n",
    "\n",
    "\n",
    "    with open(old,'w+') as writefile: \n",
    "        writefile.write('Membership No  Date Joined  Active  \\n')\n",
    "        data = \"{:^13}  {:<11}  {:<6}\\n\"\n",
    "        for rowno in range(3):\n",
    "            date = str(rnd(2015,2020))+ '-' + str(rnd(1,12))+'-'+str(rnd(1,25))\n",
    "            writefile.write(data.format(rnd(10000,99999),date,fee[1]))\n",
    "\n",
    "\n",
    "genFiles(memReg,exReg)\n"
   ]
  },
  {
   "cell_type": "markdown",
   "metadata": {},
   "source": [
    "Start your solution below:\n"
   ]
  },
  {
   "cell_type": "code",
   "execution_count": 22,
   "metadata": {},
   "outputs": [
    {
     "name": "stdout",
     "output_type": "stream",
     "text": [
      "Active Members: \n",
      "\n",
      "\n",
      "Membership No  Date Joined  Active  \n",
      "    32049      2015-10-12   yes   \n",
      "    92629      2015-2-11    yes   \n",
      "    35753      2016-3-6     yes   \n",
      "    46155      2016-1-19    yes   \n",
      "    82204      2015-1-19    yes   \n",
      "    96806      2020-11-9    yes   \n",
      "    22080      2020-7-2     yes   \n",
      "    89982      2020-12-17   yes   \n",
      "    77388      2019-1-5     yes   \n",
      "    33647      2018-9-11    yes   \n",
      "    78371      2019-1-15    yes   \n",
      "    19853      2019-3-5     yes   \n",
      "    81617      2020-3-1     yes   \n",
      "\n",
      "Inactive Members: \n",
      "\n",
      "\n",
      "Membership No  Date Joined  Active  \n",
      "    39058      2016-5-1     no    \n",
      "    86620      2016-2-11    no    \n",
      "    99950      2015-6-15    no    \n",
      "    83693      2020-7-18    no    \n",
      "    50749      2019-5-13    no    \n",
      "    87204      2018-11-2    no    \n",
      "    35051      2018-3-18    no    \n",
      "    62129      2015-2-23    no    \n",
      "    77199      2015-9-10    no    \n",
      "    52911      2017-4-9     no    \n",
      "\n"
     ]
    }
   ],
   "source": [
    "def cleanFiles(currentMem,exMem):\n",
    "    with open(currentMem,'r+') as writeFile: \n",
    "        with open(exMem,'a+') as appendFile:\n",
    "            #get the data\n",
    "            writeFile.seek(0)\n",
    "            members = writeFile.readlines()\n",
    "            #remove header\n",
    "            header = members[0]\n",
    "            members.pop(0)\n",
    "\n",
    "            inactive = [member for member in members if ('no' in member)]\n",
    "            '''\n",
    "            The above is the same as \n",
    "\n",
    "            for member in active:\n",
    "            if 'no' in member:\n",
    "                inactive.append(member)\n",
    "            '''\n",
    "            #go to the beginning of the write file\n",
    "            writeFile.seek(0) \n",
    "            writeFile.write(header)\n",
    "            for member in members:\n",
    "                if (member in inactive):\n",
    "                    appendFile.write(member)\n",
    "                else:\n",
    "                    writeFile.write(member)      \n",
    "            writeFile.truncate()\n",
    "\n",
    "memReg = 'members.txt'\n",
    "exReg = 'inactive.txt'\n",
    "cleanFiles(memReg,exReg)\n",
    "\n",
    "headers = \"Membership No  Date Joined  Active  \\n\"\n",
    "\n",
    "with open(memReg,'r') as readFile:\n",
    "    print(\"Active Members: \\n\\n\")\n",
    "    print(readFile.read())\n",
    "\n",
    "with open(exReg,'r') as readFile:\n",
    "    print(\"Inactive Members: \\n\\n\")\n",
    "    print(readFile.read())          \n",
    "    "
   ]
  },
  {
   "cell_type": "markdown",
   "metadata": {},
   "source": [
    "Verify the code:\n"
   ]
  },
  {
   "cell_type": "code",
   "execution_count": 23,
   "metadata": {},
   "outputs": [
    {
     "name": "stdout",
     "output_type": "stream",
     "text": [
      "Test Passed\n"
     ]
    }
   ],
   "source": [
    "def testMsg(passed):\n",
    "    if passed:\n",
    "       return 'Test Passed'\n",
    "    else :\n",
    "       return 'Test Failed'\n",
    "\n",
    "testWrite = \"testWrite.txt\"\n",
    "testAppend = \"testAppend.txt\" \n",
    "passed = True\n",
    "\n",
    "genFiles(testWrite,testAppend)\n",
    "\n",
    "with open(testWrite,'r') as file:\n",
    "    ogWrite = file.readlines()\n",
    "\n",
    "with open(testAppend,'r') as file:\n",
    "    ogAppend = file.readlines()\n",
    "\n",
    "try:\n",
    "    cleanFiles(testWrite,testAppend)\n",
    "except:\n",
    "    print('Error')\n",
    "\n",
    "with open(testWrite,'r') as file:\n",
    "    clWrite = file.readlines()\n",
    "\n",
    "with open(testAppend,'r') as file:\n",
    "    clAppend = file.readlines()\n",
    "        \n",
    "# checking if total no of rows is same, including headers\n",
    "\n",
    "if (len(ogWrite) + len(ogAppend) != len(clWrite) + len(clAppend)):\n",
    "    print(\"The number of rows do not add up. Make sure your final files have the same header and format.\")\n",
    "    passed = False\n",
    "    \n",
    "for line in clWrite:\n",
    "    if  'no' in line:\n",
    "        passed = False\n",
    "        print(\"Inactive members in file\")\n",
    "        break\n",
    "    else:\n",
    "        if line not in ogWrite:\n",
    "            print(\"Data in file does not match original file\")\n",
    "            passed = False\n",
    "print (\"{}\".format(testMsg(passed)))\n",
    "    \n",
    "\n"
   ]
  }
 ],
 "metadata": {
  "kernelspec": {
   "display_name": "Python 3",
   "language": "python",
   "name": "python3"
  },
  "language_info": {
   "codemirror_mode": {
    "name": "ipython",
    "version": 3
   },
   "file_extension": ".py",
   "mimetype": "text/x-python",
   "name": "python",
   "nbconvert_exporter": "python",
   "pygments_lexer": "ipython3",
   "version": "3.8.5"
  }
 },
 "nbformat": 4,
 "nbformat_minor": 4
}
